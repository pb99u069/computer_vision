{
 "cells": [
  {
   "cell_type": "markdown",
   "id": "eb6c32ef-9c31-4987-80d9-10b0e95f6f94",
   "metadata": {},
   "source": [
    "# Sudoku Solver\n",
    "\n",
    "In this assignment you are asked to **solve a Sudoku** in a photo.\n",
    "\n",
    "You will need to implement the entire image preprocessing and digit recognition pipeline,\\\n",
    "whereas an algorithm for solving the Sudoku puzzle will be provided."
   ]
  },
  {
   "cell_type": "markdown",
   "id": "dd5540d8-120e-4824-b36b-096789f46de5",
   "metadata": {
    "jp-MarkdownHeadingCollapsed": true
   },
   "source": [
    "## Submission\n",
    "\n",
    "To complete this task correctly and efficiently, here are some rules and recommendations:\n",
    "\n",
    "* Plagiarism is **not allowed**! Discussions with your colleagues must not be converted to a copy-paste solution.\n",
    "\n",
    "* Instead of rewriting existing code **use built-in methods** available in the libraries. There exists a class/method for most of the functions needed in this Assignment.\n",
    "\n",
    "* We recommend that you **go through the relevant documentation and links** in this notebook. In this assignment we will mainly use [numpy](https://numpy.org/doc/stable/), [opencv](https://opencv.org/), [scikit-image](https://scikit-image.org/) and [matplotlib](https://matplotlib.org/) libraries. Also remember that tutorials, lecture slides, [Google](https://www.google.com/) and [StackOverflow](https://stackoverflow.com/) are your close friends throughout the course.\n",
    "\n",
    "* Your code must be readable by any competent reviewer. For this purpose, include **necessary** (and no more) comments inside the code.\\\n",
    "  However, remember: **good code must be self-explanatory**.\n",
    "\n",
    "* In all files you are allowed to write **your code only between** the following placeholders:\n",
    "\n",
    "    ```python\n",
    "    # BEGIN YOUR ...\n",
    "    \n",
    "    # END YOUR ...\n",
    "    ```\n",
    "    \\\n",
    "    **or in place**\n",
    "\n",
    "    ```python\n",
    "    something = # YOUR CODE\n",
    "    ```\n",
    "    \\\n",
    "    **!Attention!** Everything else must remain as is.\n",
    "\n",
    "---\n",
    "\n",
    "**Before the submission**\n",
    "\n",
    "1. Run `create_templates.py` to ensure that your templates are being created in the `templates` folder.\\\n",
    "   You are allowed to create **no more than 2** templates for each digit.\n",
    "2. Run `test.py` with the argument `--path=<...>` to ensure that your implementation works.\n",
    "\n",
    "---\n",
    "Please **upload the following files to ILIAS**:\n",
    "\n",
    "* `frontalization.py`\n",
    "* `recognition.py`\n",
    "* `create_templates.py`\n",
    "* `pipeline.py`\n",
    "* `test.py`"
   ]
  },
  {
   "cell_type": "markdown",
   "id": "bb65ea3b-b7ba-4752-a46f-53ca72c9624e",
   "metadata": {},
   "source": [
    "## Assignment\n",
    "\n",
    "You need to follow this notebook and implement all the necessary code snippets in the `frontalization.py`, `recognition.py`, `create_templates.py`, `pipeline.py` and `test.py` files.\n",
    "\n",
    "In _this_ jupyter notebook you can test different steps of your pipeline,\\\n",
    "whereas the file `test.py` will be used to test your implementation."
   ]
  },
  {
   "cell_type": "markdown",
   "id": "7782bba4-3de0-4ceb-8ea6-a3def0a6928d",
   "metadata": {},
   "source": [
    "The folder `./sudoku_puzzles/train` contains images of Sudoku puzzles.\\\n",
    "You can find images taken:\n",
    "* under different light conditions\n",
    "* from different viewpoints\n",
    "* with digits printed in different styles\n",
    "\n",
    "<div style=\"display: flex; justify-content: space-between;\">\n",
    "  <figure style=\"margin-left: 10px; margin-right: 0;\">\n",
    "    <figcaption>image_0.jpg</figcaption>\n",
    "    <img src=\"./sudoku_puzzles/train/image_0.jpg\" width=\"200\">\n",
    "  </figure>\n",
    "  \n",
    "  <figure style=\"margin-left: 5px; margin-right: 0;\">\n",
    "    <figcaption>image_1.jpg</figcaption>\n",
    "    <img src=\"./sudoku_puzzles/train/image_1.jpg\" width=\"200\">\n",
    "  </figure>\n",
    "  \n",
    "  <figure style=\"margin-left: 5px; margin-right: 0;\">\n",
    "    <figcaption>image_2.jpg</figcaption>\n",
    "    <img src=\"./sudoku_puzzles/train/image_2.jpg\" width=\"115\">\n",
    "  </figure>\n",
    "\n",
    "  <figure style=\"margin-left: 5px; margin-right: 0;\">\n",
    "    <figcaption>image_3.jpg</figcaption>\n",
    "    <img src=\"./sudoku_puzzles/train/image_3.jpg\" width=\"115\">\n",
    "  </figure>\n",
    "\n",
    "  <figure style=\"margin-left: 5px; margin-right: 0;\">\n",
    "    <figcaption>image_4.jpg</figcaption>\n",
    "    <img src=\"./sudoku_puzzles/train/image_4.jpg\" width=\"200\">\n",
    "  </figure>\n",
    "</div>\n",
    "\n",
    "<div style=\"display: flex; justify-content: space-between;\">\n",
    "  <figure style=\"margin-left: 10px; margin-right: 0;\">\n",
    "    <figcaption>image_5.jpg</figcaption>\n",
    "    <img src=\"./sudoku_puzzles/train/image_5.jpg\" width=\"200\">\n",
    "  </figure>\n",
    "  \n",
    "  <figure style=\"margin-left: 5px; margin-right: 0;\">\n",
    "    <figcaption>image_6.jpg</figcaption>\n",
    "    <img src=\"./sudoku_puzzles/train/image_6.jpg\" width=\"200\">\n",
    "  </figure>\n",
    "  \n",
    "  <figure style=\"margin-left: 5px; margin-right: 0;\">\n",
    "    <figcaption>image_7.jpg</figcaption>\n",
    "    <img src=\"./sudoku_puzzles/train/image_7.jpg\" width=\"200\">\n",
    "  </figure>\n",
    "\n",
    "  <figure style=\"margin-left: 5px; margin-right: 0;\">\n",
    "    <figcaption>image_8.jpg</figcaption>\n",
    "    <img src=\"./sudoku_puzzles/train/image_8.jpg\" width=\"200\">\n",
    "  </figure>\n",
    "\n",
    "  <figure style=\"margin-left: 5px; margin-right: 0;\">\n",
    "    <figcaption>image_9.jpg</figcaption>\n",
    "    <img src=\"./sudoku_puzzles/train/image_9.jpg\" width=\"115\">\n",
    "  </figure>\n",
    "</div>\n",
    "\n",
    "The folder `./sudoku_puzzles/test` is not available to you and will be used to test your pipeline.\\\n",
    "However, rest assured that the Sudoku puzzles in the test images are in the same font and printing style as those in the train images."
   ]
  },
  {
   "cell_type": "markdown",
   "id": "851bc18f-b057-4be1-ae66-8deac23766a7",
   "metadata": {},
   "source": [
    "## Grading\n",
    "\n",
    "### Frontalization\n",
    "\n",
    "* **[max 20 points]** if frontalization works on images from the **_train_** set\n",
    "* **[max 20 points]** if frontalization works on images from the **_test_** set\n",
    "\n",
    "**2 points are given for each valid result**\n",
    "\n",
    "---\n",
    "\n",
    "* **[+5 points]** if frontalization works on **all** images from the **_train_** set\n",
    "* **[+5 points]** if frontalization works on **all** images from the **_test_** set\n",
    "\n",
    "---\n",
    "\n",
    "### Recognition\n",
    "\n",
    "* **[max 20 points]** if recognition works (_$3$ or fewer errors out of $81$ sudoku cells_) on images from the **_train_** set\n",
    "* **[max 20 points]** if recognition works (_$3$ or fewer errors out of $81$ sudoku cells_) on images from the **_test_** set\n",
    "\n",
    "**2 points are given for each valid result**\n",
    "\n",
    "---\n",
    "\n",
    "* **[+5 points]** if recognition works on **all** images from the **_train_** set\n",
    "* **[+5 points]** if recognition works on **all** images from the **_test_** set"
   ]
  },
  {
   "cell_type": "markdown",
   "id": "f4271b66-2fa4-44aa-8193-99cd45e1acb7",
   "metadata": {},
   "source": [
    "## 0. Read Sudoku Image\n",
    "\n",
    "Read an image of the Sudoku puzzle as an example to see what happened at each step of your _sudoku_solver_ pipeline.\n",
    "\n",
    "After all, we need to recognize the digits inside the Sudoku grid.\\\n",
    "All digits are color-independent. So we will be working with _grayscale_ images."
   ]
  },
  {
   "cell_type": "code",
   "execution_count": null,
   "id": "594ce2c7-1e0d-4664-a9f3-43761888679d",
   "metadata": {},
   "outputs": [],
   "source": [
    "import os\n",
    "\n",
    "from utils import read_image, show_image"
   ]
  },
  {
   "cell_type": "code",
   "execution_count": null,
   "id": "67c5688d-e22b-4b46-b490-7d7a23731818",
   "metadata": {},
   "outputs": [],
   "source": [
    "IMAGES_PATH = os.path.join(\".\", \"sudoku_puzzles\", \"train\")"
   ]
  },
  {
   "cell_type": "code",
   "execution_count": null,
   "id": "b2ac33ba-bfb2-49d8-96f7-18e9686e70e9",
   "metadata": {},
   "outputs": [],
   "source": [
    "image_path = os.path.join(IMAGES_PATH, \"image_0.jpg\")\n",
    "sudoku_image = read_image(image_path=image_path)"
   ]
  },
  {
   "cell_type": "code",
   "execution_count": null,
   "id": "fc447ab4-4ce4-4cd8-b474-46518336fe27",
   "metadata": {},
   "outputs": [],
   "source": [
    "show_image(sudoku_image, as_gray=True)"
   ]
  },
  {
   "cell_type": "markdown",
   "id": "e5f74b63-9fcc-47dd-960b-55205128e23a",
   "metadata": {},
   "source": [
    "### 0.1 Pipeline\n",
    "\n",
    "For your convenience, there is a _Pipeline_ class in the `pipeline.py` file."
   ]
  },
  {
   "cell_type": "code",
   "execution_count": null,
   "id": "b90baf16-c402-4b76-b610-26e079bddf3f",
   "metadata": {},
   "outputs": [],
   "source": [
    "from pipeline import Pipeline"
   ]
  },
  {
   "cell_type": "markdown",
   "id": "13fd98a3-f345-4373-89ab-fcadc2082b4a",
   "metadata": {},
   "source": [
    "You can use this class to display what happened after each step of your frontalization pipeline.\n",
    "\n",
    "```python\n",
    "pipeline = Pipeline(functions=[find_edges, find_contours, get_max_contour, find_corners],\n",
    "                    parameters={\"find_corners\": {\"accuracy\": 0.01}})\n",
    "\n",
    "output = pipeline(sudoku_image, plot=True, figsize=(18, 12))\n",
    "```"
   ]
  },
  {
   "cell_type": "markdown",
   "id": "74524c80-ebb9-4540-a6cd-b8880a842bdf",
   "metadata": {},
   "source": [
    "## 1. Frontalization\n",
    "\n",
    "This is a high-level view of the first part of the sudoku solver.\\\n",
    "Below in the sections you wil find the step-by-step instructions.\n",
    "\n",
    "With this part we will transform and crop an image with a Sudoku to avoid unnecessary background information.\\\n",
    "After that, we will be left with an image with only a $9\\times 9$ Sudoku grid and digits inside.\n",
    "\n",
    "Working with frontalized patches with digits is an important step for successful recognition of the digits.\\\n",
    "\n",
    "To **frontalize** an image we need to apply a transformation that maps the distorted Sudoku grid in the input image to a rectified squared Sudoku grid. To do so we need to find the $4$ corners of the Sudoku grid and to find these corners we need to find the closed contour with the maximum area.\n",
    "\n",
    "You need to implement the functions inside the `frontalization.py` file."
   ]
  },
  {
   "cell_type": "markdown",
   "id": "0c907639-aed3-4adf-aad6-02f493be4e4f",
   "metadata": {},
   "source": [
    "### 1.1 Find Max Contour"
   ]
  },
  {
   "cell_type": "markdown",
   "id": "120474b6-3f84-4c90-bffe-aaad8b75e72c",
   "metadata": {},
   "source": [
    "A [_contour_](https://docs.opencv.org/4.x/d4/d73/tutorial_py_contours_begin.html) can be explained simply as a curve joining all the continuous points (along the boundary) that have the same intensity.\\\n",
    "Each individual contour is an array of $(x, y)$ coordinates of boundary points of the object."
   ]
  },
  {
   "cell_type": "markdown",
   "id": "f89c1f80-c7d5-4740-bbbb-6595876b5418",
   "metadata": {},
   "source": [
    "#### 1.1.1 Find Edges"
   ]
  },
  {
   "cell_type": "markdown",
   "id": "22c83071-71dc-442f-bbb7-db56fd64e838",
   "metadata": {},
   "source": [
    "For better accuracy, we should use binary images.\\\n",
    "That is why we will use edges as input to find contours."
   ]
  },
  {
   "cell_type": "code",
   "execution_count": null,
   "id": "26149a86-1756-493f-98e7-9fe1a3b5a8c3",
   "metadata": {},
   "outputs": [],
   "source": [
    "from frontalization import find_edges"
   ]
  },
  {
   "cell_type": "code",
   "execution_count": null,
   "id": "08bd82bb-975a-450e-a469-3c00076086f4",
   "metadata": {},
   "outputs": [],
   "source": [
    "pipeline = Pipeline(functions=[find_edges])\n",
    "_ = pipeline(sudoku_image, plot=True)"
   ]
  },
  {
   "cell_type": "markdown",
   "id": "eb83f62e-bf52-48dc-9925-bf92006e56da",
   "metadata": {},
   "source": [
    "#### 1.1.2 Highlight Edges"
   ]
  },
  {
   "cell_type": "markdown",
   "id": "66c3d016-7611-455a-9a10-2a0d82faec15",
   "metadata": {},
   "source": [
    "The edges found seem to be thin.\\\n",
    "To make them thicker we need to add pixels to the boundaries of objects in an image.\n",
    "\n",
    "For example, [_morphological dilation_](https://scikit-image.org/docs/stable/api/skimage.morphology.html#skimage.morphology.dilation) makes objects more visible and fills in small holes in objects.\\\n",
    "So, lines appear thicker and filled shapes appear larger.\n",
    "\n",
    "Will this help find the contour of the maximum area?"
   ]
  },
  {
   "cell_type": "code",
   "execution_count": null,
   "id": "7d819908-e08b-403a-8b70-3e820db906c2",
   "metadata": {},
   "outputs": [],
   "source": [
    "from frontalization import highlight_edges"
   ]
  },
  {
   "cell_type": "code",
   "execution_count": null,
   "id": "90c12b3b-18cb-45e9-b697-be05b0bbd8e2",
   "metadata": {},
   "outputs": [],
   "source": [
    "pipeline = Pipeline(functions=[find_edges, highlight_edges])\n",
    "_ = pipeline(sudoku_image, plot=True, figsize=(24, 24))"
   ]
  },
  {
   "cell_type": "markdown",
   "id": "436e2950-54c1-4cd8-9f73-d7698d243ef2",
   "metadata": {},
   "source": [
    "#### 1.1.3 Find Countours"
   ]
  },
  {
   "cell_type": "markdown",
   "id": "4d384a13-bc66-4c09-af7f-90a13360b9b6",
   "metadata": {},
   "source": [
    "We assume that in the image of the Sudoku grid will have a maximum area contour (see contour definition above).\\\n",
    "So, we need to find all the contours and then select the one with the maximum area."
   ]
  },
  {
   "cell_type": "code",
   "execution_count": null,
   "id": "41921e9c-5c9e-4dd0-94fa-7c5a07ed4cba",
   "metadata": {},
   "outputs": [],
   "source": [
    "from frontalization import find_contours"
   ]
  },
  {
   "cell_type": "code",
   "execution_count": null,
   "id": "a0933541-0779-4c74-99f6-6bd7b51b4394",
   "metadata": {},
   "outputs": [],
   "source": [
    "pipeline = Pipeline(functions=[find_edges, highlight_edges, find_contours])\n",
    "_ = pipeline(sudoku_image, plot=True, figsize=(24, 12))"
   ]
  },
  {
   "cell_type": "markdown",
   "id": "2e5ed8d1-f744-472b-93af-4f8c0c104ab0",
   "metadata": {},
   "source": [
    "#### 1.1.4 Get Maximum Area Contour"
   ]
  },
  {
   "cell_type": "code",
   "execution_count": null,
   "id": "1047c536-5518-4561-8e16-11eb6f743937",
   "metadata": {},
   "outputs": [],
   "source": [
    "from frontalization import get_max_contour"
   ]
  },
  {
   "cell_type": "markdown",
   "id": "9099568e-651d-4e75-bbfe-286e108eb168",
   "metadata": {},
   "source": [
    "Compare two pipelines: **with** and **without** edge highlighting.\\\n",
    "Is there any difference in getting the maximum area contour?"
   ]
  },
  {
   "cell_type": "code",
   "execution_count": null,
   "id": "bdc78114-3af8-4260-867a-937bbc0bc340",
   "metadata": {},
   "outputs": [],
   "source": [
    "pipeline = Pipeline(functions=[find_edges, highlight_edges, find_contours, get_max_contour])\n",
    "_ = pipeline(sudoku_image, plot=True, figsize=(24, 12))"
   ]
  },
  {
   "cell_type": "code",
   "execution_count": null,
   "id": "78128736-3cae-41dd-b9f6-76fe1bdb6a66",
   "metadata": {},
   "outputs": [],
   "source": [
    "pipeline = Pipeline(functions=[find_edges, find_contours, get_max_contour])\n",
    "_ = pipeline(sudoku_image, plot=True, figsize=(24, 12))"
   ]
  },
  {
   "cell_type": "markdown",
   "id": "f4b0f90a-4c50-438a-a3f4-70992fd50b3d",
   "metadata": {},
   "source": [
    "### 1.2 Find Corners\n",
    "\n",
    "The found contour consists of a large number of points.\\\n",
    "To get $4$ corners of a quadrilateral related to this contour we need to find an approximation of this contour with fewer vertices.\n",
    "\n",
    "Ideally, we need an approximated contour with $4$ points.\\\n",
    "[The Ramer–Douglas–Peucker algorithm](https://en.wikipedia.org/wiki/Ramer%E2%80%93Douglas%E2%80%93Peucker_algorithm) finds a [simplified curve](https://docs.opencv.org/3.4/dd/d49/tutorial_py_contour_features.html) consisting of a subset of the points that defined the original curve.\\\n",
    "This algorithm has an adjustable parameter $\\varepsilon$ that defines the maximum distance between the original curve and the simplified one.\\\n",
    "Will we always have $4$ points in our approximated contour?"
   ]
  },
  {
   "cell_type": "markdown",
   "id": "41385699-f71b-497d-92d2-900de0a2c2b4",
   "metadata": {},
   "source": [
    "Additionally, for further convenience, we would like to return an array of corner points in order\n",
    "\n",
    "$$[\\text{top left, top right, bottom right, bottom left}]$$"
   ]
  },
  {
   "cell_type": "code",
   "execution_count": null,
   "id": "3738ca67-4e83-45a9-bb3b-6dc423e0c4c0",
   "metadata": {},
   "outputs": [],
   "source": [
    "from frontalization import find_corners"
   ]
  },
  {
   "cell_type": "code",
   "execution_count": null,
   "id": "74c3cdd1-ea0e-40d7-927f-f6f94e7c98b3",
   "metadata": {},
   "outputs": [],
   "source": [
    "pipeline = Pipeline(functions=[find_edges, highlight_edges, find_contours, get_max_contour, find_corners],\n",
    "                    parameters={\"find_corners\": {\"accuracy\": # YOUR CODE}})\n",
    "_ = pipeline(sudoku_image, plot=True, figsize=(24, 12))"
   ]
  },
  {
   "cell_type": "markdown",
   "id": "1e37fbaa-c85a-4f28-ba35-c0eeb84bda77",
   "metadata": {},
   "source": [
    "### 1.3 Tricks"
   ]
  },
  {
   "cell_type": "markdown",
   "id": "858543e4-c590-4da4-8995-a96ab7349537",
   "metadata": {},
   "source": [
    "#### 1.3.1 Rescaling"
   ]
  },
  {
   "cell_type": "markdown",
   "id": "008f7e64-c7c5-4892-b419-7a14811c8e3e",
   "metadata": {},
   "source": [
    "For [rescaling](https://scikit-image.org/docs/stable/auto_examples/transform/plot_rescale.html) with the $\\text{scale factor} < 1$ Gaussian smoothing will be performed to avoid aliasing artifacts.\\\n",
    "That is, the rescaled image will be blurry and have less noise. That is why stronger edges and contours will be found."
   ]
  },
  {
   "cell_type": "code",
   "execution_count": null,
   "id": "49017c10-764a-45ce-9170-c04ad9f01c07",
   "metadata": {},
   "outputs": [],
   "source": [
    "from frontalization import rescale_image"
   ]
  },
  {
   "cell_type": "code",
   "execution_count": null,
   "id": "7456f04e-5abc-4b17-a40d-333112b1b707",
   "metadata": {},
   "outputs": [],
   "source": [
    "print(f\"original image shape: {sudoku_image.shape}\\nrescaled image shape: {rescale_image(sudoku_image, scale=0.5).shape}\")"
   ]
  },
  {
   "cell_type": "code",
   "execution_count": null,
   "id": "f2b3d01c-cf4a-4789-96f5-09a8d4ef7cbb",
   "metadata": {},
   "outputs": [],
   "source": [
    "pipeline = Pipeline(functions=[rescale_image, find_edges, highlight_edges, find_contours, get_max_contour, find_corners],\n",
    "                    parameters={\"rescale_image\": {\"scale\": # YOUR CODE},\n",
    "                                \"find_corners\": {\"accuracy\": # YOUR CODE}})\n",
    "_ = pipeline(sudoku_image, plot=True, figsize=(24, 18))"
   ]
  },
  {
   "cell_type": "markdown",
   "id": "4789149a-c9dc-47fd-86e5-4d343e61a66a",
   "metadata": {},
   "source": [
    "#### 1.3.2 Gaussian Blur"
   ]
  },
  {
   "cell_type": "markdown",
   "id": "1c568383-5e86-42bc-b954-b88ee043a304",
   "metadata": {},
   "source": [
    "We can directly (without image resizing) remove high-frequency noise using [Gaussian blur](https://scikit-image.org/docs/stable/api/skimage.filters.html#skimage.filters.gaussian)."
   ]
  },
  {
   "cell_type": "code",
   "execution_count": null,
   "id": "fb07607f-b63e-40f3-b134-58c0de28aeed",
   "metadata": {},
   "outputs": [],
   "source": [
    "from frontalization import gaussian_blur"
   ]
  },
  {
   "cell_type": "code",
   "execution_count": null,
   "id": "69c9fddd-3f4e-4a3e-964e-5f832944a936",
   "metadata": {},
   "outputs": [],
   "source": [
    "pipeline = Pipeline(functions=[gaussian_blur, find_edges, highlight_edges, find_contours, get_max_contour, find_corners],\n",
    "                    parameters={\"gaussian_blur\": {\"sigma\": # YOUR CODE},\n",
    "                                \"find_corners\": {\"accuracy\": # YOUR CODE}})\n",
    "_ = pipeline(sudoku_image, plot=True, figsize=(24, 18))"
   ]
  },
  {
   "cell_type": "markdown",
   "id": "7aea5211-9ab1-4237-9ae0-78d8227d09a7",
   "metadata": {},
   "source": [
    "### 1.4 Perspective Transformation\n",
    "\n",
    "The _perspective transformation_ is associated with the change in the viewpoint.\\\n",
    "With this transformation the straight lines will remain straight, but parallelism, line lengths and angles will not be preserved."
   ]
  },
  {
   "cell_type": "markdown",
   "id": "5abf2151-436c-4e3e-80c6-31ce15ac52c0",
   "metadata": {},
   "source": [
    "For this transformation $4$ points on the input image and the desired $4$ points on the output image are enough! Why?\\\n",
    "One can use [cv2.getPerspectiveTransform](https://docs.opencv.org/4.x/da/d54/group__imgproc__transform.html#ga20f62aa3235d869c9956436c870893ae) to find the transformation matrix and then [cv2.warpPerspective](https://docs.opencv.org/4.x/da/d54/group__imgproc__transform.html#gaf73673a7e8e18ec6963e3774e6a94b87) to perform the perspective transformation.\n",
    "\n",
    "We know that usually Sudoku puzzles are squared grids ($9\\times 9$ in our case).\\\n",
    "That is why the final **warped (frontalized) image must be squared** (height equals width)!"
   ]
  },
  {
   "cell_type": "code",
   "execution_count": null,
   "id": "935dd752-f2e4-4b7b-abe0-359a4f43f61a",
   "metadata": {},
   "outputs": [],
   "source": [
    "from frontalization import frontalize_image, show_frontalized_images"
   ]
  },
  {
   "cell_type": "code",
   "execution_count": null,
   "id": "6f236b29-3c3e-419a-b574-fc73423819d3",
   "metadata": {},
   "outputs": [],
   "source": [
    "pipeline = # YOUR CODE"
   ]
  },
  {
   "cell_type": "code",
   "execution_count": null,
   "id": "63d7d6c9-0ed4-4ecd-8197-596fb98a3ce9",
   "metadata": {},
   "outputs": [],
   "source": [
    "image_paths=[os.path.join(IMAGES_PATH, file_name) for file_name in sorted(os.listdir(IMAGES_PATH))\n",
    "             if 'jpg' in os.path.splitext(file_name)[1]]\n",
    "\n",
    "show_frontalized_images(image_paths=image_paths, pipeline=pipeline, figsize=(16, 12))"
   ]
  },
  {
   "cell_type": "markdown",
   "id": "944454e8-e42c-4ce7-a84f-66ff1fe6be47",
   "metadata": {},
   "source": [
    "## Fix Frontalization Pipeline\n",
    "\n",
    "Here you can fix your frontalization pipeline to focus on the _Digit Recognition_.\\\n",
    "Create a test frontalization pipeline in the function _get_test_pipeline_ in the `pipeline.py` file.\n",
    "\n",
    "**!Attention!** The function _get_test_pipeline_ will be used in the `test.py` file."
   ]
  },
  {
   "cell_type": "code",
   "execution_count": null,
   "id": "29cf200e-299c-4852-890a-739c4ece61a4",
   "metadata": {},
   "outputs": [],
   "source": [
    "import os\n",
    "\n",
    "from utils import read_image, show_image\n",
    "from pipeline import get_test_pipeline\n",
    "from frontalization import frontalize_image\n",
    "\n",
    "IMAGES_PATH = os.path.join(\".\", \"sudoku_puzzles\", \"train\")"
   ]
  },
  {
   "cell_type": "code",
   "execution_count": null,
   "id": "a7e9bd64-c4fe-4da8-a255-675997674f66",
   "metadata": {},
   "outputs": [],
   "source": [
    "pipeline = get_test_pipeline()"
   ]
  },
  {
   "cell_type": "code",
   "execution_count": null,
   "id": "a38670d4-ecec-442e-85c1-428019299594",
   "metadata": {},
   "outputs": [],
   "source": [
    "image_path = os.path.join(IMAGES_PATH, \"image_0.jpg\")\n",
    "sudoku_image = read_image(image_path=image_path)\n",
    "frontalized_image = frontalize_image(sudoku_image, pipeline=pipeline)"
   ]
  },
  {
   "cell_type": "markdown",
   "id": "c5d21bb3-fc7b-4e2d-93d7-d7ac6d7be937",
   "metadata": {},
   "source": [
    "## 2. Digit Recognition\n",
    "\n",
    "We will use frontalized cross-correlation score for digit recognition.\\\n",
    "As a result, we will get a $2\\text{D}$ array (Sudoku matrix) of recognized digits and empty cells in the Sudoku grid.\n",
    "\n",
    "To achieve this we should\n",
    "\n",
    "1. manually create templates of all possible digits;\n",
    "2. recognize digits based on frontalized cross-correlation scores between cells and templates.\n",
    "\n",
    "You need to implement the functions inside the `recognition.py` file."
   ]
  },
  {
   "cell_type": "markdown",
   "id": "751aec59-2c07-4148-bbc6-ba399f67ac22",
   "metadata": {},
   "source": [
    "### 2.1 Create Templates\n",
    "\n",
    "To create templates of digits printed in different styles we need to\n",
    "\n",
    "1. go through different Sudoku images,\n",
    "2. cut them into $9\\times 9 = 81$ cells and\n",
    "3. save binarized images of cells with different digits."
   ]
  },
  {
   "cell_type": "markdown",
   "id": "dc328df2-a004-4f34-9c27-ca270e66135c",
   "metadata": {},
   "source": [
    "#### 2.1.1 Resize"
   ]
  },
  {
   "cell_type": "markdown",
   "id": "2a7df03c-c7c0-4bd5-ac3e-777b9c68a9ab",
   "metadata": {},
   "source": [
    "To deal with images of different sizes we need to standardize the size of a single cell and consequently the size of the Sudoku grid (frontalized image).\\\n",
    "Let's use $64\\times 64$ as the cell size and, accordingly, $576\\times 576$ as the frontalized image size."
   ]
  },
  {
   "cell_type": "code",
   "execution_count": null,
   "id": "b2f15d1a-2623-4f77-8790-c7beef0d7970",
   "metadata": {},
   "outputs": [],
   "source": [
    "from recognition import SUDOKU_SIZE\n",
    "from recognition import resize_image"
   ]
  },
  {
   "cell_type": "code",
   "execution_count": null,
   "id": "0334140c-5650-4b54-95f8-f19edbbf9462",
   "metadata": {},
   "outputs": [],
   "source": [
    "resized_image = resize_image(frontalized_image, size=SUDOKU_SIZE)\n",
    "print(f\"Size is equal to {resized_image.shape}\")"
   ]
  },
  {
   "cell_type": "markdown",
   "id": "a874cdef-9e2b-4043-b751-ea7ad05dca00",
   "metadata": {},
   "source": [
    "#### 2.1.2 Get Sudoku Cells"
   ]
  },
  {
   "cell_type": "markdown",
   "id": "4d2cfdfb-01eb-45a6-a537-11b88fb65042",
   "metadata": {},
   "source": [
    "Two questions are important here:\n",
    "\n",
    "1. All cells in a Sudoku grid have borders. Do we need to preserve them in our templates?\n",
    "2. Different images have different backgrounds and digits intensities. Should we preserve these intensities as they are in our templates?"
   ]
  },
  {
   "cell_type": "code",
   "execution_count": null,
   "id": "9cf541c5-e9b9-49f6-9b62-6ef08d33275d",
   "metadata": {},
   "outputs": [],
   "source": [
    "from recognition import get_sudoku_cells\n",
    "from utils import show_sudoku_cells"
   ]
  },
  {
   "cell_type": "code",
   "execution_count": null,
   "id": "173d96a4-2c39-427e-b0a2-b3682cda2c45",
   "metadata": {},
   "outputs": [],
   "source": [
    "sudoku_cells = # YOUR CODE"
   ]
  },
  {
   "cell_type": "code",
   "execution_count": null,
   "id": "5e372fa3-66b6-4bbb-ba69-16ae75f8484f",
   "metadata": {},
   "outputs": [],
   "source": [
    "show_sudoku_cells(sudoku_cells)"
   ]
  },
  {
   "cell_type": "markdown",
   "id": "baed4aae-59d5-4a5b-be22-15e96f7a0e58",
   "metadata": {},
   "source": [
    "### Create Templates\n",
    "\n",
    "Now you can implement all the necessary stuff in the `create_template.py` file and then run it to create digit templates\\\n",
    "with the following command\n",
    "\n",
    "```bash\n",
    "python create_templates.py\n",
    "```\n",
    "\n",
    "**!Attention!** The function _get_test_pipeline_ from the `pipeline.py` file will be used in the `create_template.py` file.\\\n",
    "**!Attention!** You are allowed to create **no more than 2** templates for each digit."
   ]
  },
  {
   "cell_type": "markdown",
   "id": "f563e706-a332-4fe4-b9fa-186d04075874",
   "metadata": {},
   "source": [
    "### 2.2 Recognize Digits\n",
    "\n",
    "We will use a [_normalized cross-correlation score_](https://scikit-image.org/docs/stable/api/skimage.feature.html#skimage.feature.match_template) to compare the Sudoku cell image to the created digit templates.\\\n",
    "The main question is how we can use the information from all the different templates that are related to the same digit."
   ]
  },
  {
   "cell_type": "markdown",
   "id": "7b212732-f0c7-4402-811f-9815ca29fd6c",
   "metadata": {},
   "source": [
    "#### 2.2.1 Correlation"
   ]
  },
  {
   "cell_type": "code",
   "execution_count": null,
   "id": "868ae55e-e211-4e65-88b3-2934be2f9ee0",
   "metadata": {},
   "outputs": [],
   "source": [
    "from recognition import load_templates, get_digit_correlations, show_correlations"
   ]
  },
  {
   "cell_type": "code",
   "execution_count": null,
   "id": "707ae26e-e97c-48e7-b999-dbc8e1e60d09",
   "metadata": {},
   "outputs": [],
   "source": [
    "templates_dict = load_templates()"
   ]
  },
  {
   "cell_type": "code",
   "execution_count": null,
   "id": "8e53a3ee-fa9d-438f-a87c-76de246f99bc",
   "metadata": {},
   "outputs": [],
   "source": [
    "sudoku_cell = sudoku_cells[2, 0]\n",
    "\n",
    "correlations = get_digit_correlations(sudoku_cell, templates_dict)\n",
    "show_correlations(sudoku_cell, correlations)"
   ]
  },
  {
   "cell_type": "markdown",
   "id": "d2e9dfc3-d1ac-46a3-86e4-40220c60c7d5",
   "metadata": {},
   "source": [
    "#### 2.2.2 Sudoku Matrix\n",
    "\n",
    "Now we need to create a Sudoku matrix with $0$s in empty cells to run the Sudoku solving algorithm.\\\n",
    "How can we determine that a Sudoku cell is empty?"
   ]
  },
  {
   "cell_type": "code",
   "execution_count": null,
   "id": "80aedbcd-c1ce-480a-a508-bb91c3635cdc",
   "metadata": {},
   "outputs": [],
   "source": [
    "from recognition import recognize_digits, show_recognized_digits"
   ]
  },
  {
   "cell_type": "code",
   "execution_count": null,
   "id": "cb7d8f4a-0774-4a25-845f-b360a3a0afe9",
   "metadata": {},
   "outputs": [],
   "source": [
    "sudoku_matrix = recognize_digits(sudoku_cells, templates_dict)"
   ]
  },
  {
   "cell_type": "code",
   "execution_count": null,
   "id": "2c7eca54-cd28-4942-a2ba-32bf17b6b784",
   "metadata": {},
   "outputs": [],
   "source": [
    "sudoku_matrix"
   ]
  },
  {
   "cell_type": "code",
   "execution_count": null,
   "id": "e541ec2f-031e-4f8e-9aaa-09fd702dd43d",
   "metadata": {},
   "outputs": [],
   "source": [
    "image_paths=[os.path.join(IMAGES_PATH, file_name) for file_name in sorted(os.listdir(IMAGES_PATH))\n",
    "             if 'jpg' in os.path.splitext(file_name)[1]]\n",
    "\n",
    "show_recognized_digits(image_paths=image_paths, pipeline=pipeline,\n",
    "                       crop_factor= # YOUR CODE\n",
    "                       binarization_kwargs= # YOUR CODE\n",
    "                       figsize=(16, 12), digit_fontsize=10)"
   ]
  },
  {
   "cell_type": "markdown",
   "id": "35ff5944-fa6b-4466-be37-f86ad8c59476",
   "metadata": {},
   "source": [
    "## 3. Solve Sudoku\n",
    "\n",
    "Now we will use the _solve_sudoku_ function from the `sudoku_solver.py` file to solve the Sudoku puzzle."
   ]
  },
  {
   "cell_type": "code",
   "execution_count": null,
   "id": "9375d842-b700-4975-9b50-50116337ca1b",
   "metadata": {},
   "outputs": [],
   "source": [
    "from sudoku_solver import matrix_to_puzzle, solve_sudoku\n",
    "from recognition import show_solved_sudoku"
   ]
  },
  {
   "cell_type": "code",
   "execution_count": null,
   "id": "7ba415bc-eb82-49c3-9ed1-ed474ec4268b",
   "metadata": {},
   "outputs": [],
   "source": [
    "print(matrix_to_puzzle(sudoku_matrix))"
   ]
  },
  {
   "cell_type": "code",
   "execution_count": null,
   "id": "a433dc3f-bf6f-4e11-a35d-2e2456d85e22",
   "metadata": {},
   "outputs": [],
   "source": [
    "sudoku_matrix_solved = solve_sudoku(sudoku_matrix)"
   ]
  },
  {
   "cell_type": "code",
   "execution_count": null,
   "id": "bdca7d5f-fce4-4079-97fd-1362921bbf59",
   "metadata": {},
   "outputs": [],
   "source": [
    "print(matrix_to_puzzle(sudoku_matrix_solved))"
   ]
  },
  {
   "cell_type": "code",
   "execution_count": null,
   "id": "353dde7e-8fce-4f63-802f-bae1ef710410",
   "metadata": {},
   "outputs": [],
   "source": [
    "show_solved_sudoku(frontalized_image, sudoku_matrix, sudoku_matrix_solved)"
   ]
  }
 ],
 "metadata": {
  "kernelspec": {
   "display_name": "Python 3 (ipykernel)",
   "language": "python",
   "name": "python3"
  },
  "language_info": {
   "codemirror_mode": {
    "name": "ipython",
    "version": 3
   },
   "file_extension": ".py",
   "mimetype": "text/x-python",
   "name": "python",
   "nbconvert_exporter": "python",
   "pygments_lexer": "ipython3",
   "version": "3.11.4"
  }
 },
 "nbformat": 4,
 "nbformat_minor": 5
}
